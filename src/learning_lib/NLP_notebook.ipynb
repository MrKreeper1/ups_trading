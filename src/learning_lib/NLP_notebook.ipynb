{
 "cells": [
  {
   "cell_type": "code",
   "execution_count": 14,
   "metadata": {},
   "outputs": [],
   "source": [
    "from transformers import pipeline\n",
    "from transformers import DistilBertTokenizer\n",
    "import json\n",
    "import pandas as pd\n",
    "import tqdm\n",
    "import logger\n",
    "import nltk\n",
    "import matplotlib.pyplot as plt\n",
    "import numpy as np\n",
    "import regex\n",
    "import dateparser\n",
    "from utils.loader_findata import Finloader\n",
    "import datetime"
   ]
  },
  {
   "cell_type": "code",
   "execution_count": 15,
   "metadata": {},
   "outputs": [],
   "source": [
    "#def split_text_into_sentences(text):\n",
    "#    sentences = nltk.sent_tokenize(text)\n",
    "#    return sentences\n",
    "\n",
    "#texts_data = []\n",
    "#summarizer = pipeline(\"summarization\", model=\"facebook/bart-large-cnn\", min_length = 1)\n",
    "\n",
    "#with open('../coindesk_news.json', 'r') as file:\n",
    "#    loaded_data = json.load(file)\n",
    "\n",
    "#results = []"
   ]
  },
  {
   "cell_type": "code",
   "execution_count": 16,
   "metadata": {},
   "outputs": [],
   "source": [
    "#def split_text_into_sentences(text):\n",
    "#    sentences = nltk.sent_tokenize(text)\n",
    "#    return sentences\n",
    "\n",
    "#texts_data = []\n",
    "#summarizer = pipeline(\"summarization\", model=\"facebook/bart-large-cnn\", min_length = 1)\n",
    "#\n",
    "#with open('../coindesk_news.json', 'r') as file:\n",
    "#    loaded_data = json.load(file)\n",
    "#\n",
    "#results = []\n",
    "#\n",
    "#for URL in tqdm.tqdm(list(loaded_data.keys())[:10]):\n",
    "#    title = loaded_data[URL][0]\n",
    "#    time = loaded_data[URL][1]\n",
    "#    text = loaded_data[URL][2].replace('\\n', '')\n",
    "#    sequences = split_text_into_sentences(text)\n",
    "#    res = \"\"\n",
    "#    for i in range(len(sequences)):\n",
    "#        res = res + summarizer(sequences[i], max_length = 10)[0]['summary_text']\n",
    "#    texts_data.append([title, time, res])\n",
    "#    results.append([len(text.split()), len(res.split())])\n",
    "#print(*results, sep ='\\n')"
   ]
  },
  {
   "cell_type": "code",
   "execution_count": 17,
   "metadata": {},
   "outputs": [
    {
     "name": "stderr",
     "output_type": "stream",
     "text": [
      "100%|██████████| 6863/6863 [00:07<00:00, 930.56it/s] \n"
     ]
    }
   ],
   "source": [
    "def extract_tokens(text: str):\n",
    "    return set(regex.findall(pattern=\"[A-Z]{3,}\", string=text))\n",
    "\n",
    "def convert_time(text: str):\n",
    "    raw_list = list(map(lambda p: p.replace('Updated', '').replace('Published', ''), text.split('UTC')))\n",
    "\n",
    "    if len(raw_list) > 1:\n",
    "        raw_list.pop(-1)\n",
    "    \n",
    "    raw_list = [dateparser.parse(i) for i in raw_list]\n",
    "\n",
    "    try:\n",
    "        return raw_list[0]\n",
    "    except:\n",
    "        print(text, raw_list)\n",
    "\n",
    "def form_news_topandas(path_to_news_json:str, path_to_tokens:str):\n",
    "    \n",
    "    with open(path_to_tokens, 'r') as file:\n",
    "        valid_tokens = set(file.read().split('\\n'))\n",
    "    with open(path_to_news_json, 'r') as file:\n",
    "        loaded_data = json.load(file)\n",
    "    \n",
    "    res = []\n",
    "    for URL in tqdm.tqdm(list(loaded_data.keys())[:]):\n",
    "        title = loaded_data[URL][0]\n",
    "        time = convert_time(loaded_data[URL][1])\n",
    "        text = loaded_data[URL][2]\n",
    "        tokens = list(extract_tokens(text) & valid_tokens)\\\n",
    "        \n",
    "        res.append([title, time, text, ' '.join(tokens)])\n",
    "\n",
    "    df_res =  pd.DataFrame(data = res, columns=['title', 'time', 'text', 'tokens']).sort_values('time')\n",
    "    df_res=df_res.reset_index()\n",
    "    df_res = df_res.drop(labels=['index'], axis = 1)\n",
    "    return df_res\n",
    "df_news = form_news_topandas('../../data/coindesk_news.json', '../../data/tokens_names.txt')"
   ]
  },
  {
   "cell_type": "code",
   "execution_count": 18,
   "metadata": {},
   "outputs": [],
   "source": [
    "loader = Finloader(r\"C:\\Users\\Student\\UPS2025\\UPS2025_FinMat\\data\\clear_data\")\n",
    "\n",
    "filtered_loader_columns = []\n",
    "loader_columns = loader.get_columns()\n",
    "for i in loader_columns:\n",
    "    if 'close_' in i:\n",
    "        filtered_loader_columns.append(i.replace('close_', ''))"
   ]
  },
  {
   "cell_type": "code",
   "execution_count": 19,
   "metadata": {},
   "outputs": [],
   "source": [
    "closes_data = pd.read_csv(r\"../../data/clear_data/close.csv\")\n",
    "filtered_loader_columns.insert(0, 'openTime')\n",
    "closes_data_filtered = closes_data[filtered_loader_columns]\n",
    "closes_data_filtered = closes_data_filtered.set_index(\"openTime\")\n",
    "closes_data_filtered\n",
    "closes_data_filtered = closes_data_filtered.pct_change()\n",
    "closes_data_filtered = closes_data_filtered.iloc[1:]\n",
    "closes_data = closes_data.index.astype(dtype=str)"
   ]
  },
  {
   "cell_type": "code",
   "execution_count": 20,
   "metadata": {},
   "outputs": [],
   "source": [
    "def roundUpDateTime(dt):\n",
    "    delta_5min = 5 - dt.minute % 5\n",
    "\n",
    "    delta = datetime.timedelta(minutes = delta_5min)\n",
    "\n",
    "    return datetime.datetime(dt.year, dt.month, dt.day,\n",
    "                             dt.hour, dt.minute, dt.second) + delta\n",
    "\n",
    "news_sentiment = []\n",
    "\n",
    "for i in range(len(df_news)):\n",
    "    finance_open_time = roundUpDateTime(dateparser.parse(str(df_news.iloc[i]['time'])))\n",
    "    try:\n",
    "        closes = closes_data_filtered.loc[finance_open_time.strftime(format=\"%Y-%m-%d %H:%M:%S+00:00\")]\n",
    "        row = [df_news.iloc[i]['text']]\n",
    "        row.extend(list(closes))\n",
    "        row.extend([df_news.iloc[i]['tokens']])\n",
    "        news_sentiment.append(row)\n",
    "    except:\n",
    "        pass\n",
    "\n",
    "dataset_cols = list(closes_data_filtered.columns)\n",
    "dataset_cols.insert(0, 'news_text')\n",
    "dataset_cols.append('token_names')\n",
    "dataset_cols\n",
    "dataset_raw = pd.DataFrame(data=news_sentiment, columns=dataset_cols)"
   ]
  },
  {
   "cell_type": "code",
   "execution_count": 21,
   "metadata": {},
   "outputs": [],
   "source": [
    "dataset_dat = []\n",
    "\n",
    "tokens = dataset_raw[list(set(dataset_raw.columns)-set(['news_text', 'token_names']))]\n",
    "\n",
    "for i in range(len(dataset_raw)):\n",
    "    row_tokens = tokens.iloc[i]\n",
    "    news_text = dataset_raw.iloc[i]['news_text']\n",
    "    token_names = dataset_raw.iloc[i]['token_names'].split()\n",
    "\n",
    "    val = None\n",
    "    token_names_cur = []\n",
    "    if len(token_names) == 0:\n",
    "        val = tokens.iloc[i].mean()\n",
    "    else:\n",
    "        token_vals = []\n",
    "        token_names_cur = []\n",
    "        for name in token_names:\n",
    "            token_names_cur.extend(list(tokens.iloc[i].filter(like = name).index))\n",
    "            token_vals.extend(list(tokens.iloc[i].filter(like = name).values))\n",
    "        val = sum(token_vals)/len(token_vals)\n",
    "    dataset_dat.append([news_text, val, ' '.join(token_names_cur)])\n",
    "\n",
    "dataset = pd.DataFrame(dataset_dat, columns=['text', 'val', 'tokens'])"
   ]
  },
  {
   "cell_type": "code",
   "execution_count": 23,
   "metadata": {},
   "outputs": [],
   "source": [
    "# Токенизация\n",
    "\n",
    "#input_texts = []\n",
    "#predicts = []\n",
    "#tokens_lists = []\n",
    "#\n",
    "#for i in tqdm.tqdm(range(len(dataset))):\n",
    "#    input_text = dataset.iloc[i]['text']\n",
    "#    predict = dataset.iloc[i]['val']\n",
    "#    token_list = dataset.iloc[i]['tokens']\n",
    "#\n",
    "#    for par in input_text.split('\\n'):\n",
    "#        input_texts.append(tokenizer(par, padding=True, truncation=True, return_tensors=\"pt\"))\n",
    "#        predicts.append(predict)\n",
    "#        tokens_lists.append(token_list)"
   ]
  },
  {
   "cell_type": "code",
   "execution_count": 28,
   "metadata": {},
   "outputs": [],
   "source": [
    "from transformers import AutoTokenizer, AutoModelForSequenceClassification\n",
    "tokenizer = AutoTokenizer.from_pretrained(\"mrm8488/distilroberta-finetuned-financial-news-sentiment-analysis\")\n",
    "model = AutoModelForSequenceClassification.from_pretrained(\"mrm8488/distilroberta-finetuned-financial-news-sentiment-analysis\")\n",
    "\n",
    "for param in model.base_model.parameters():\n",
    "    param.requires_grad = False\n",
    "\n",
    "NUM_EPOCHS = 10\n",
    "\n",
    "import torch\n",
    "from torch import nn\n",
    "\n",
    "class RegressionHead(nn.Module):\n",
    "    def __init__(self, config):\n",
    "        super().__init__()\n",
    "        self.dense = nn.Linear(768, 1)  # Один выход для регрессии\n",
    "        self.dropout = nn.Dropout(p = 0.1, inplace= False)\n",
    "\n",
    "    def forward(self, features):\n",
    "        print(features.shape, \"first\")\n",
    "        x = self.dropout(features)\n",
    "        print(features.shape, \"second\")\n",
    "        x = self.dense(x)\n",
    "        print(features.shape, \"third\")\n",
    "        return x\n",
    "\n",
    "\n",
    "model.classifier = RegressionHead(model.config)\n",
    "model.config.num_labels = 1"
   ]
  },
  {
   "cell_type": "code",
   "execution_count": 570,
   "metadata": {},
   "outputs": [
    {
     "name": "stdout",
     "output_type": "stream",
     "text": [
      "torch.Size([1, 2, 768]) first\n",
      "torch.Size([1, 2, 768]) second\n",
      "torch.Size([1, 2, 768]) third\n"
     ]
    },
    {
     "ename": "TypeError",
     "evalue": "'int' object is not callable",
     "output_type": "error",
     "traceback": [
      "\u001b[1;31m---------------------------------------------------------------------------\u001b[0m",
      "\u001b[1;31mTypeError\u001b[0m                                 Traceback (most recent call last)",
      "Cell \u001b[1;32mIn[570], line 19\u001b[0m\n\u001b[0;32m     15\u001b[0m     cur_input \u001b[38;5;241m=\u001b[39m X_train[i]\n\u001b[0;32m     17\u001b[0m     model_output \u001b[38;5;241m=\u001b[39m model(\u001b[38;5;241m*\u001b[39m\u001b[38;5;241m*\u001b[39mcur_input)\n\u001b[1;32m---> 19\u001b[0m     loss \u001b[38;5;241m=\u001b[39m \u001b[43mloss_fn\u001b[49m\u001b[43m(\u001b[49m\u001b[43mmodel_output\u001b[49m\u001b[43m,\u001b[49m\u001b[43m \u001b[49m\u001b[43my_train\u001b[49m\u001b[43m[\u001b[49m\u001b[43mi\u001b[49m\u001b[43m]\u001b[49m\u001b[43m)\u001b[49m\n\u001b[0;32m     20\u001b[0m     epoch_losses\u001b[38;5;241m.\u001b[39mappend(loss)\n\u001b[0;32m     22\u001b[0m train_losses_by_epochs\u001b[38;5;241m.\u001b[39mappend(\u001b[38;5;28msum\u001b[39m(epoch_losses) \u001b[38;5;241m/\u001b[39m \u001b[38;5;28mlen\u001b[39m(epoch_losses))\n",
      "File \u001b[1;32mc:\\Users\\Student\\AppData\\Local\\Programs\\Python\\Python311\\Lib\\site-packages\\torch\\nn\\modules\\module.py:1736\u001b[0m, in \u001b[0;36mModule._wrapped_call_impl\u001b[1;34m(self, *args, **kwargs)\u001b[0m\n\u001b[0;32m   1734\u001b[0m     \u001b[38;5;28;01mreturn\u001b[39;00m \u001b[38;5;28mself\u001b[39m\u001b[38;5;241m.\u001b[39m_compiled_call_impl(\u001b[38;5;241m*\u001b[39margs, \u001b[38;5;241m*\u001b[39m\u001b[38;5;241m*\u001b[39mkwargs)  \u001b[38;5;66;03m# type: ignore[misc]\u001b[39;00m\n\u001b[0;32m   1735\u001b[0m \u001b[38;5;28;01melse\u001b[39;00m:\n\u001b[1;32m-> 1736\u001b[0m     \u001b[38;5;28;01mreturn\u001b[39;00m \u001b[38;5;28;43mself\u001b[39;49m\u001b[38;5;241;43m.\u001b[39;49m\u001b[43m_call_impl\u001b[49m\u001b[43m(\u001b[49m\u001b[38;5;241;43m*\u001b[39;49m\u001b[43margs\u001b[49m\u001b[43m,\u001b[49m\u001b[43m \u001b[49m\u001b[38;5;241;43m*\u001b[39;49m\u001b[38;5;241;43m*\u001b[39;49m\u001b[43mkwargs\u001b[49m\u001b[43m)\u001b[49m\n",
      "File \u001b[1;32mc:\\Users\\Student\\AppData\\Local\\Programs\\Python\\Python311\\Lib\\site-packages\\torch\\nn\\modules\\module.py:1747\u001b[0m, in \u001b[0;36mModule._call_impl\u001b[1;34m(self, *args, **kwargs)\u001b[0m\n\u001b[0;32m   1742\u001b[0m \u001b[38;5;66;03m# If we don't have any hooks, we want to skip the rest of the logic in\u001b[39;00m\n\u001b[0;32m   1743\u001b[0m \u001b[38;5;66;03m# this function, and just call forward.\u001b[39;00m\n\u001b[0;32m   1744\u001b[0m \u001b[38;5;28;01mif\u001b[39;00m \u001b[38;5;129;01mnot\u001b[39;00m (\u001b[38;5;28mself\u001b[39m\u001b[38;5;241m.\u001b[39m_backward_hooks \u001b[38;5;129;01mor\u001b[39;00m \u001b[38;5;28mself\u001b[39m\u001b[38;5;241m.\u001b[39m_backward_pre_hooks \u001b[38;5;129;01mor\u001b[39;00m \u001b[38;5;28mself\u001b[39m\u001b[38;5;241m.\u001b[39m_forward_hooks \u001b[38;5;129;01mor\u001b[39;00m \u001b[38;5;28mself\u001b[39m\u001b[38;5;241m.\u001b[39m_forward_pre_hooks\n\u001b[0;32m   1745\u001b[0m         \u001b[38;5;129;01mor\u001b[39;00m _global_backward_pre_hooks \u001b[38;5;129;01mor\u001b[39;00m _global_backward_hooks\n\u001b[0;32m   1746\u001b[0m         \u001b[38;5;129;01mor\u001b[39;00m _global_forward_hooks \u001b[38;5;129;01mor\u001b[39;00m _global_forward_pre_hooks):\n\u001b[1;32m-> 1747\u001b[0m     \u001b[38;5;28;01mreturn\u001b[39;00m \u001b[43mforward_call\u001b[49m\u001b[43m(\u001b[49m\u001b[38;5;241;43m*\u001b[39;49m\u001b[43margs\u001b[49m\u001b[43m,\u001b[49m\u001b[43m \u001b[49m\u001b[38;5;241;43m*\u001b[39;49m\u001b[38;5;241;43m*\u001b[39;49m\u001b[43mkwargs\u001b[49m\u001b[43m)\u001b[49m\n\u001b[0;32m   1749\u001b[0m result \u001b[38;5;241m=\u001b[39m \u001b[38;5;28;01mNone\u001b[39;00m\n\u001b[0;32m   1750\u001b[0m called_always_called_hooks \u001b[38;5;241m=\u001b[39m \u001b[38;5;28mset\u001b[39m()\n",
      "File \u001b[1;32mc:\\Users\\Student\\AppData\\Local\\Programs\\Python\\Python311\\Lib\\site-packages\\torch\\nn\\modules\\loss.py:128\u001b[0m, in \u001b[0;36mL1Loss.forward\u001b[1;34m(self, input, target)\u001b[0m\n\u001b[0;32m    127\u001b[0m \u001b[38;5;28;01mdef\u001b[39;00m\u001b[38;5;250m \u001b[39m\u001b[38;5;21mforward\u001b[39m(\u001b[38;5;28mself\u001b[39m, \u001b[38;5;28minput\u001b[39m: Tensor, target: Tensor) \u001b[38;5;241m-\u001b[39m\u001b[38;5;241m>\u001b[39m Tensor:\n\u001b[1;32m--> 128\u001b[0m     \u001b[38;5;28;01mreturn\u001b[39;00m \u001b[43mF\u001b[49m\u001b[38;5;241;43m.\u001b[39;49m\u001b[43ml1_loss\u001b[49m\u001b[43m(\u001b[49m\u001b[38;5;28;43minput\u001b[39;49m\u001b[43m,\u001b[49m\u001b[43m \u001b[49m\u001b[43mtarget\u001b[49m\u001b[43m,\u001b[49m\u001b[43m \u001b[49m\u001b[43mreduction\u001b[49m\u001b[38;5;241;43m=\u001b[39;49m\u001b[38;5;28;43mself\u001b[39;49m\u001b[38;5;241;43m.\u001b[39;49m\u001b[43mreduction\u001b[49m\u001b[43m)\u001b[49m\n",
      "File \u001b[1;32mc:\\Users\\Student\\AppData\\Local\\Programs\\Python\\Python311\\Lib\\site-packages\\torch\\nn\\functional.py:3743\u001b[0m, in \u001b[0;36ml1_loss\u001b[1;34m(input, target, size_average, reduce, reduction)\u001b[0m\n\u001b[0;32m   3733\u001b[0m \u001b[38;5;28;01mif\u001b[39;00m has_torch_function_variadic(\u001b[38;5;28minput\u001b[39m, target):\n\u001b[0;32m   3734\u001b[0m     \u001b[38;5;28;01mreturn\u001b[39;00m handle_torch_function(\n\u001b[0;32m   3735\u001b[0m         l1_loss,\n\u001b[0;32m   3736\u001b[0m         (\u001b[38;5;28minput\u001b[39m, target),\n\u001b[1;32m   (...)\u001b[0m\n\u001b[0;32m   3741\u001b[0m         reduction\u001b[38;5;241m=\u001b[39mreduction,\n\u001b[0;32m   3742\u001b[0m     )\n\u001b[1;32m-> 3743\u001b[0m \u001b[38;5;28;01mif\u001b[39;00m \u001b[38;5;129;01mnot\u001b[39;00m (\u001b[43mtarget\u001b[49m\u001b[38;5;241;43m.\u001b[39;49m\u001b[43msize\u001b[49m\u001b[43m(\u001b[49m\u001b[43m)\u001b[49m \u001b[38;5;241m==\u001b[39m \u001b[38;5;28minput\u001b[39m\u001b[38;5;241m.\u001b[39msize()):\n\u001b[0;32m   3744\u001b[0m     warnings\u001b[38;5;241m.\u001b[39mwarn(\n\u001b[0;32m   3745\u001b[0m         \u001b[38;5;124mf\u001b[39m\u001b[38;5;124m\"\u001b[39m\u001b[38;5;124mUsing a target size (\u001b[39m\u001b[38;5;132;01m{\u001b[39;00mtarget\u001b[38;5;241m.\u001b[39msize()\u001b[38;5;132;01m}\u001b[39;00m\u001b[38;5;124m) that is different to the input size (\u001b[39m\u001b[38;5;132;01m{\u001b[39;00m\u001b[38;5;28minput\u001b[39m\u001b[38;5;241m.\u001b[39msize()\u001b[38;5;132;01m}\u001b[39;00m\u001b[38;5;124m). \u001b[39m\u001b[38;5;124m\"\u001b[39m\n\u001b[0;32m   3746\u001b[0m         \u001b[38;5;124m\"\u001b[39m\u001b[38;5;124mThis will likely lead to incorrect results due to broadcasting. \u001b[39m\u001b[38;5;124m\"\u001b[39m\n\u001b[0;32m   3747\u001b[0m         \u001b[38;5;124m\"\u001b[39m\u001b[38;5;124mPlease ensure they have the same size.\u001b[39m\u001b[38;5;124m\"\u001b[39m,\n\u001b[0;32m   3748\u001b[0m         stacklevel\u001b[38;5;241m=\u001b[39m\u001b[38;5;241m2\u001b[39m,\n\u001b[0;32m   3749\u001b[0m     )\n\u001b[0;32m   3750\u001b[0m \u001b[38;5;28;01mif\u001b[39;00m size_average \u001b[38;5;129;01mis\u001b[39;00m \u001b[38;5;129;01mnot\u001b[39;00m \u001b[38;5;28;01mNone\u001b[39;00m \u001b[38;5;129;01mor\u001b[39;00m reduce \u001b[38;5;129;01mis\u001b[39;00m \u001b[38;5;129;01mnot\u001b[39;00m \u001b[38;5;28;01mNone\u001b[39;00m:\n",
      "\u001b[1;31mTypeError\u001b[0m: 'int' object is not callable"
     ]
    }
   ],
   "source": []
  },
  {
   "cell_type": "code",
   "execution_count": 553,
   "metadata": {},
   "outputs": [
    {
     "data": {
      "text/plain": [
       "RegressionHead(\n",
       "  (dense): Linear(in_features=768, out_features=1, bias=True)\n",
       "  (dropout): Dropout(p=0.1, inplace=False)\n",
       ")"
      ]
     },
     "execution_count": 553,
     "metadata": {},
     "output_type": "execute_result"
    }
   ],
   "source": [
    "model.classifier"
   ]
  },
  {
   "cell_type": "code",
   "execution_count": null,
   "metadata": {},
   "outputs": [],
   "source": [
    "plt.plot(train_losses_by_epochs)\n",
    "plt.plot(val_losses_by_epochs)\n",
    "plt.show()"
   ]
  }
 ],
 "metadata": {
  "kernelspec": {
   "display_name": "Python 3",
   "language": "python",
   "name": "python3"
  },
  "language_info": {
   "codemirror_mode": {
    "name": "ipython",
    "version": 3
   },
   "file_extension": ".py",
   "mimetype": "text/x-python",
   "name": "python",
   "nbconvert_exporter": "python",
   "pygments_lexer": "ipython3",
   "version": "3.11.0"
  }
 },
 "nbformat": 4,
 "nbformat_minor": 2
}
