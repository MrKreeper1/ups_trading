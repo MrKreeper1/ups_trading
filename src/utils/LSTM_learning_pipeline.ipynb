{
 "cells": [
  {
   "cell_type": "code",
   "execution_count": 56,
   "metadata": {},
   "outputs": [],
   "source": [
    "import tqdm\n",
    "from loader_findata import finloader\n",
    "import pandas as pd\n",
    "import numpy as np\n",
    "class windowed_learning_pipeline:\n",
    "    def __init__(self, _pth:str, _train_size:int, _dropout_size:int, _win_size:int, _win_train_size:int):\n",
    "        '''\n",
    "        С помощью метода get_next() выдаёт следующее скользящее окно для обучения LSTM сети\n",
    "        Аргументы:\n",
    "        - pth: путь к 9 csv файлам с рыночными данными\n",
    "        - test_percentage: процент от данных для тестовой выборки\n",
    "        - dropout_percentage: процент данных, составляющих отступ между train и test\n",
    "        - win_percentage: процент данных, которые составляют одно окно\n",
    "        - win_train_percentage: процент данных для обучения, которые составляют одно окно\n",
    "        - win_test_percentage: процент данных для тренировки, которые составляют одно окно\n",
    "        '''\n",
    "\n",
    "        self.train_size = _train_size\n",
    "        self.data = finloader(_pth)\n",
    "        self.length =len(self.data)\n",
    "        self.dropout_size = _dropout_size\n",
    "        self.win_size = _win_size\n",
    "        self.win_train_size = _win_train_size\n",
    "        self.getted_cnt = 0\n",
    "        self.dropout_flag = 0\n",
    "        self.columns = []\n",
    "\n",
    "    def get_test(self):\n",
    "        if not self.dropout_flag:\n",
    "            return None\n",
    "        else:\n",
    "            df_test = pd.DataFrame()\n",
    "            for i in range(self.getted_cnt, self.length): \n",
    "                df_test = pd.concat([df_test, self.data.step()], ignore_index=True)\n",
    "            return df_test\n",
    "    \n",
    "    def gone_dropout(self):\n",
    "        self.dropout_flag = 1\n",
    "        for i in range(self.dropout_size):\n",
    "            self.getted_cnt+=1\n",
    "            self.data.step()\n",
    "    \n",
    "    def get_nxt(self):\n",
    "        if self.getted_cnt + self.win_size >= self.train_size:\n",
    "            if not self.dropout_flag:\n",
    "                self.gone_dropout()\n",
    "                return(None)\n",
    "            else:\n",
    "                return(None)\n",
    "        \n",
    "        cur_row = self.data.step()\n",
    "        if self.columns == []:\n",
    "            self.columns = cur_row.columns\n",
    "        \n",
    "        cur_row = cur_row.replace('', np.nan)\n",
    "        cur_time = cur_row.index[0]\n",
    "        np_row = cur_row.to_numpy(dtype=np.float32)\n",
    "\n",
    "        train = np.zeros(dtype=np.float32, shape=(self.win_train_size, len(self.columns)))\n",
    "        test = np.zeros(dtype=np.float32, shape=(self.win_size - self.win_train_size, len(self.columns)))\n",
    "\n",
    "        train_time = ['' for i in range(self.win_train_size)]\n",
    "        test_time = ['' for i in range(self.win_size - self.win_train_size)]\n",
    "\n",
    "        print(np_row)\n",
    "        for i in tqdm.tqdm(range(0, self.win_size)):\n",
    "            if self.getted_cnt != 0:\n",
    "                cur_row = self.data.step()\n",
    "                cur_time = cur_row.index[0]\n",
    "                np_row = cur_row.replace('', np.nan).index[0].to_numpy(dtype=np.float32)\n",
    "            \n",
    "            if i < self.win_train_size:\n",
    "                train[i] = np_row\n",
    "                train_time[i] = cur_time\n",
    "            else:\n",
    "                test[i - self.win_train_size] = np_row\n",
    "                test_time[i - self.win_train_size] = cur_time\n",
    "\n",
    "        \n",
    "        self.getted_cnt += (self.win_size - self.win_train_size)\n",
    "\n",
    "        print(len(train_time), train.shape)\n",
    "        df_train = pd.DataFrame(index=train_time,\n",
    "                                columns=self.columns,\n",
    "                                data=train)\n",
    "        \n",
    "        df_test = pd.DataFrame(index=test_time,\n",
    "                                columns=self.columns,\n",
    "                                data=test)\n",
    "\n",
    "        return (df_train, df_test)"
   ]
  },
  {
   "cell_type": "code",
   "execution_count": 59,
   "metadata": {},
   "outputs": [],
   "source": [
    "lrn_pipe = windowed_learning_pipeline(\n",
    "    _pth = \"C:/Users/Student/UPS2025/UPS2025_FinMat/data/clear_data\",\n",
    "    _train_size = 300000,\n",
    "    _dropout_size = 10000,\n",
    "    _win_size = 10000,\n",
    "    _win_train_size = 9000,\n",
    ")"
   ]
  },
  {
   "cell_type": "code",
   "execution_count": 60,
   "metadata": {},
   "outputs": [
    {
     "name": "stderr",
     "output_type": "stream",
     "text": [
      "C:\\Users\\Student\\AppData\\Local\\Temp\\ipykernel_17712\\2174390409.py:55: FutureWarning: Downcasting behavior in `replace` is deprecated and will be removed in a future version. To retain the old behavior, explicitly call `result.infer_objects(copy=False)`. To opt-in to the future behavior, set `pd.set_option('future.no_silent_downcasting', True)`\n",
      "  cur_row = cur_row.replace('', np.nan)\n"
     ]
    },
    {
     "name": "stdout",
     "output_type": "stream",
     "text": [
      "[[      nan       nan       nan ...       nan       nan 65295.164]]\n"
     ]
    },
    {
     "name": "stderr",
     "output_type": "stream",
     "text": [
      "100%|██████████| 10000/10000 [00:00<00:00, 195730.27it/s]"
     ]
    },
    {
     "name": "stdout",
     "output_type": "stream",
     "text": [
      "9000 (9000, 3681)\n"
     ]
    },
    {
     "name": "stderr",
     "output_type": "stream",
     "text": [
      "\n"
     ]
    }
   ],
   "source": []
  }
 ],
 "metadata": {
  "kernelspec": {
   "display_name": "UPS2025",
   "language": "python",
   "name": "python3"
  },
  "language_info": {
   "codemirror_mode": {
    "name": "ipython",
    "version": 3
   },
   "file_extension": ".py",
   "mimetype": "text/x-python",
   "name": "python",
   "nbconvert_exporter": "python",
   "pygments_lexer": "ipython3",
   "version": "3.13.1"
  }
 },
 "nbformat": 4,
 "nbformat_minor": 2
}
