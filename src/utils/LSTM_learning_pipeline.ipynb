{
 "cells": [
  {
   "cell_type": "code",
   "execution_count": 3,
   "metadata": {},
   "outputs": [],
   "source": [
    "import tqdm\n",
    "from loader_findata import finloader\n",
    "import pandas as pd\n",
    "class windowed_learning_pipeline:\n",
    "    def __init__(self, _pth:str, _train_size:int, _dropout_size:int, _win_size:int, _win_train_size:int):\n",
    "        '''\n",
    "        С помощью метода get_next() выдаёт следующее скользящее окно для обучения LSTM сети\n",
    "        Аргументы:\n",
    "        - pth: путь к 9 csv файлам с рыночными данными\n",
    "        - test_percentage: процент от данных для тестовой выборки\n",
    "        - dropout_percentage: процент данных, составляющих отступ между train и test\n",
    "        - win_percentage: процент данных, которые составляют одно окно\n",
    "        - win_train_percentage: процент данных для обучения, которые составляют одно окно\n",
    "        - win_test_percentage: процент данных для тренировки, которые составляют одно окно\n",
    "        '''\n",
    "\n",
    "        self.train_size = _train_size\n",
    "        self.data = finloader(_pth)\n",
    "        self.length =len(self.data)\n",
    "        self.dropout_size = _dropout_size\n",
    "        self.win_size = _win_size\n",
    "        self.win_train_size = _win_train_size\n",
    "        self.getted_cnt = 0\n",
    "        self.dropout_flag = 0\n",
    "\n",
    "    def get_test(self):\n",
    "        if not self.dropout_flag:\n",
    "            return None\n",
    "        else:\n",
    "            df_test = pd.DataFrame()\n",
    "            for i in range(self.getted_cnt, self.length): \n",
    "                df_test = pd.concat([df_test, self.data.step()], ignore_index=True)\n",
    "            return df_test\n",
    "    \n",
    "    def gone_dropout(self):\n",
    "        self.dropout_flag = 1\n",
    "        for i in range(self.dropout_size):\n",
    "            self.getted_cnt+=1\n",
    "            self.data.step()\n",
    "    \n",
    "    def get_nxt(self):\n",
    "        if self.getted_cnt + self.win_size >= self.train_size:\n",
    "            if not self.dropout_flag:\n",
    "                self.gone_dropout()\n",
    "                return(None)\n",
    "            else:\n",
    "                return(None)\n",
    "\n",
    "\n",
    "        df_train = pd.DataFrame()\n",
    "        df_test = pd.DataFrame()\n",
    "        for i in tqdm.tqdm(range(0, self.win_size)):\n",
    "            if i < self.win_train_size:\n",
    "                df_train = pd.concat([df_train, self.data.step()], ignore_index=True)\n",
    "            else:\n",
    "                df_test = pd.concat([df_test, self.data.step()], ignore_index=True)\n",
    "        \n",
    "        self.getted_cnt += (self.win_size - self.win_train_size)\n",
    "        return (df_train, df_test)"
   ]
  },
  {
   "cell_type": "code",
   "execution_count": 4,
   "metadata": {},
   "outputs": [],
   "source": [
    "lrn_pipe = windowed_learning_pipeline(\n",
    "    _pth = \"C:/Users/Student/UPS2025/UPS2025_FinMat/data/clear_data\",\n",
    "    _train_size = 300000,\n",
    "    _dropout_size = 10000,\n",
    "    _win_size = 10000,\n",
    "    _win_train_size = 9000,\n",
    ")"
   ]
  },
  {
   "cell_type": "code",
   "execution_count": null,
   "metadata": {},
   "outputs": [
    {
     "name": "stderr",
     "output_type": "stream",
     "text": [
      " 18%|█▊        | 1785/10000 [02:33<18:13,  7.51it/s]"
     ]
    }
   ],
   "source": [
    "total_wins = 0\n",
    "while True:\n",
    "    if lrn_pipe.get_nxt()==None:\n",
    "        break\n",
    "    total_wins+=1\n",
    "print(\"Wins: \", total_wins)"
   ]
  },
  {
   "cell_type": "code",
   "execution_count": null,
   "metadata": {},
   "outputs": [],
   "source": []
  }
 ],
 "metadata": {
  "kernelspec": {
   "display_name": "UPS2025",
   "language": "python",
   "name": "python3"
  },
  "language_info": {
   "codemirror_mode": {
    "name": "ipython",
    "version": 3
   },
   "file_extension": ".py",
   "mimetype": "text/x-python",
   "name": "python",
   "nbconvert_exporter": "python",
   "pygments_lexer": "ipython3",
   "version": "3.13.1"
  }
 },
 "nbformat": 4,
 "nbformat_minor": 2
}
